{
 "cells": [
  {
   "cell_type": "code",
   "execution_count": 1,
   "id": "453c43e1-758b-4da5-8cd6-eb00fe334f4a",
   "metadata": {},
   "outputs": [],
   "source": [
    "a ={1:\"apple\"}"
   ]
  },
  {
   "cell_type": "code",
   "execution_count": null,
   "id": "0c5078f5",
   "metadata": {},
   "outputs": [],
   "source": [
    "import numpy as np\n",
    "# Create a matrix\n",
    "matrix = np.array([[1, 2],\n",
    "[1, 2],\n",
    "[1, 2]])\n"
   ]
  },
  {
   "cell_type": "code",
   "execution_count": 2,
   "id": "5147cb43-e4ce-4f9b-90ae-05cbbf350940",
   "metadata": {},
   "outputs": [
    {
     "data": {
      "text/plain": [
       "{1: 'apple'}"
      ]
     },
     "execution_count": 2,
     "metadata": {},
     "output_type": "execute_result"
    }
   ],
   "source": [
    "a"
   ]
  },
  {
   "cell_type": "code",
   "execution_count": 3,
   "id": "e4f05279-3726-4d41-8682-c8771df1bca2",
   "metadata": {},
   "outputs": [
    {
     "data": {
      "text/plain": [
       "dict"
      ]
     },
     "execution_count": 3,
     "metadata": {},
     "output_type": "execute_result"
    }
   ],
   "source": [
    "type(a)"
   ]
  },
  {
   "cell_type": "code",
   "execution_count": 5,
   "id": "c2dfc4aa-6acc-44a0-8776-84c1e4b14c13",
   "metadata": {},
   "outputs": [],
   "source": [
    "b = {1 :\"Apple\",2:\"Banana\"}"
   ]
  },
  {
   "cell_type": "code",
   "execution_count": 6,
   "id": "e530ecc5-e9e5-442c-9bd0-9b7019e1b29b",
   "metadata": {},
   "outputs": [
    {
     "data": {
      "text/plain": [
       "{1: 'Apple', 2: 'Banana'}"
      ]
     },
     "execution_count": 6,
     "metadata": {},
     "output_type": "execute_result"
    }
   ],
   "source": [
    "b"
   ]
  },
  {
   "cell_type": "code",
   "execution_count": 7,
   "id": "1a03d996-bbfb-486b-b63b-191dbfa72d1d",
   "metadata": {},
   "outputs": [],
   "source": [
    "b[3] = 'Grapes'"
   ]
  },
  {
   "cell_type": "code",
   "execution_count": 8,
   "id": "846c6046-dc96-4edc-8e63-1a2677aea8b2",
   "metadata": {},
   "outputs": [
    {
     "data": {
      "text/plain": [
       "{1: 'Apple', 2: 'Banana', 3: 'Grapes'}"
      ]
     },
     "execution_count": 8,
     "metadata": {},
     "output_type": "execute_result"
    }
   ],
   "source": [
    "b"
   ]
  },
  {
   "cell_type": "code",
   "execution_count": 9,
   "id": "e6dc1d26-9238-439d-a677-5926f2ea4bd3",
   "metadata": {},
   "outputs": [],
   "source": [
    "b.update({4:'Watermelon',5:'pineapple'})"
   ]
  },
  {
   "cell_type": "code",
   "execution_count": 10,
   "id": "37bc65bc-2a75-4a83-bf32-359423df605d",
   "metadata": {},
   "outputs": [
    {
     "data": {
      "text/plain": [
       "{1: 'Apple', 2: 'Banana', 3: 'Grapes', 4: 'Watermelon', 5: 'pineapple'}"
      ]
     },
     "execution_count": 10,
     "metadata": {},
     "output_type": "execute_result"
    }
   ],
   "source": [
    "b"
   ]
  },
  {
   "cell_type": "code",
   "execution_count": 11,
   "id": "2ed78623-bc36-487e-aa7c-bd29035ebe87",
   "metadata": {},
   "outputs": [],
   "source": [
    "del b[3]"
   ]
  },
  {
   "cell_type": "code",
   "execution_count": 12,
   "id": "296fcb48-a62c-4cf4-bd40-add323861788",
   "metadata": {},
   "outputs": [
    {
     "data": {
      "text/plain": [
       "{1: 'Apple', 2: 'Banana', 4: 'Watermelon', 5: 'pineapple'}"
      ]
     },
     "execution_count": 12,
     "metadata": {},
     "output_type": "execute_result"
    }
   ],
   "source": [
    "b"
   ]
  },
  {
   "cell_type": "code",
   "execution_count": 13,
   "id": "6565c448-5726-42c1-85af-4479e6307f32",
   "metadata": {},
   "outputs": [],
   "source": [
    "c=dict(a=1,b=2)"
   ]
  },
  {
   "cell_type": "code",
   "execution_count": 14,
   "id": "d4be3a4e-09fe-4263-8c33-9b6262f78e59",
   "metadata": {},
   "outputs": [],
   "source": [
    "response = {}"
   ]
  },
  {
   "cell_type": "code",
   "execution_count": 22,
   "id": "fd0495b1-a9f0-4d00-af37-6abe1bd58666",
   "metadata": {},
   "outputs": [
    {
     "name": "stdout",
     "output_type": "stream",
     "text": [
      "What is your name? ben\n",
      "what course you want to attend educ\n"
     ]
    }
   ],
   "source": [
    "name = input(\"What is your name?\")\n",
    "workshop = input(\"what course you want to attend\")\n",
    "#Dictionary = response\n",
    "#name = key\n",
    "#workshop = value\n",
    "response[name] = workshop"
   ]
  },
  {
   "cell_type": "code",
   "execution_count": null,
   "id": "adbbda8f-65fd-4fb2-8f5f-3d238472bc60",
   "metadata": {},
   "outputs": [],
   "source": [
    "Amon"
   ]
  },
  {
   "cell_type": "code",
   "execution_count": 17,
   "id": "1d492ecc-9173-4f14-8184-fa2253530b8b",
   "metadata": {},
   "outputs": [
    {
     "data": {
      "text/plain": [
       "{'mofo': 'comp sci'}"
      ]
     },
     "execution_count": 17,
     "metadata": {},
     "output_type": "execute_result"
    }
   ],
   "source": [
    "response"
   ]
  },
  {
   "cell_type": "code",
   "execution_count": 19,
   "id": "da898e71-7b6e-46cf-b820-dc746395be0a",
   "metadata": {},
   "outputs": [
    {
     "data": {
      "text/plain": [
       "{'mofo': 'comp sci', 'mr mark': 'building and construction'}"
      ]
     },
     "execution_count": 19,
     "metadata": {},
     "output_type": "execute_result"
    }
   ],
   "source": [
    "response"
   ]
  },
  {
   "cell_type": "code",
   "execution_count": 21,
   "id": "75cb7501-feb4-4e85-a285-492066e9abe7",
   "metadata": {},
   "outputs": [
    {
     "name": "stdout",
     "output_type": "stream",
     "text": [
      "mofowould like to attendcomp sci\n",
      "mr markwould like to attendbuilding and construction\n"
     ]
    }
   ],
   "source": [
    "for name,workshop in response.items():\n",
    "    print(name + \"would like to attend\" + workshop)"
   ]
  },
  {
   "cell_type": "code",
   "execution_count": null,
   "id": "fdbc9114-04b3-4cca-97d4-0534130f6ce8",
   "metadata": {},
   "outputs": [],
   "source": []
  }
 ],
 "metadata": {
  "kernelspec": {
   "display_name": "Python 3 (ipykernel)",
   "language": "python",
   "name": "python3"
  },
  "language_info": {
   "codemirror_mode": {
    "name": "ipython",
    "version": 3
   },
   "file_extension": ".py",
   "mimetype": "text/x-python",
   "name": "python",
   "nbconvert_exporter": "python",
   "pygments_lexer": "ipython3",
   "version": "3.11.5"
  }
 },
 "nbformat": 4,
 "nbformat_minor": 5
}
