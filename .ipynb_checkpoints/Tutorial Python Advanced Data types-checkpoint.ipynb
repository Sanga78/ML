{
 "cells": [
  {
   "cell_type": "code",
   "execution_count": 1,
   "id": "2550dcb8-b23c-4075-97f2-fcea6f3c5a20",
   "metadata": {},
   "outputs": [
    {
     "name": "stdout",
     "output_type": "stream",
     "text": [
      "Hello World\n"
     ]
    }
   ],
   "source": [
    "print(\"Hello World\")"
   ]
  },
  {
   "cell_type": "code",
   "execution_count": 2,
   "id": "614a4972-f3b2-4f51-baf1-3312074c7dbd",
   "metadata": {},
   "outputs": [],
   "source": [
    "a=12"
   ]
  },
  {
   "cell_type": "code",
   "execution_count": 3,
   "id": "5a2fd526-3a54-48d1-8906-b618d9d5d901",
   "metadata": {},
   "outputs": [],
   "source": [
    "a = [1,2,3,4,5]"
   ]
  },
  {
   "cell_type": "code",
   "execution_count": 4,
   "id": "6932f71e-2553-4af8-beb3-6f6d1f267f36",
   "metadata": {},
   "outputs": [
    {
     "data": {
      "text/plain": [
       "list"
      ]
     },
     "execution_count": 4,
     "metadata": {},
     "output_type": "execute_result"
    }
   ],
   "source": [
    "type(a)"
   ]
  },
  {
   "cell_type": "code",
   "execution_count": 5,
   "id": "635ea8f1-15d6-411e-a496-4bbfd2cb0066",
   "metadata": {},
   "outputs": [],
   "source": [
    "a=[]"
   ]
  },
  {
   "cell_type": "code",
   "execution_count": 6,
   "id": "07e9ea18-b6c7-49b6-bae1-737f1b7be53a",
   "metadata": {},
   "outputs": [],
   "source": [
    "a.append(12)"
   ]
  },
  {
   "cell_type": "code",
   "execution_count": 7,
   "id": "54543052-8ea5-4dd8-b045-9b54ab11fadb",
   "metadata": {},
   "outputs": [],
   "source": [
    "a.append(\"mofo\")"
   ]
  },
  {
   "cell_type": "code",
   "execution_count": 8,
   "id": "379212f9-3af7-413c-baaa-60819817207e",
   "metadata": {},
   "outputs": [
    {
     "data": {
      "text/plain": [
       "[12, 'mofo']"
      ]
     },
     "execution_count": 8,
     "metadata": {},
     "output_type": "execute_result"
    }
   ],
   "source": [
    "a"
   ]
  },
  {
   "cell_type": "code",
   "execution_count": 9,
   "id": "fd7a0cfe-4999-4e8c-b1b0-8f1d9df512b3",
   "metadata": {},
   "outputs": [
    {
     "name": "stdout",
     "output_type": "stream",
     "text": [
      "6\n"
     ]
    }
   ],
   "source": [
    "import random\n",
    "print(random.randint(0,9))"
   ]
  },
  {
   "cell_type": "code",
   "execution_count": null,
   "id": "cfa4f526-f96b-40eb-b058-7afab9f424cb",
   "metadata": {},
   "outputs": [],
   "source": []
  },
  {
   "cell_type": "code",
   "execution_count": 10,
   "id": "05243ca9-6235-471b-bd0a-3af2ea6cea8f",
   "metadata": {},
   "outputs": [
    {
     "name": "stdout",
     "output_type": "stream",
     "text": [
      "1 7 1 8 7\n"
     ]
    }
   ],
   "source": [
    "import random\n",
    "print(random.randint(0,9),random.randint(0,9),random.randint(0,9),random.randint(0,9),random.randint(0,9))"
   ]
  },
  {
   "cell_type": "code",
   "execution_count": 12,
   "id": "381a88d2-507d-4813-9f04-fa77a105eafc",
   "metadata": {},
   "outputs": [],
   "source": [
    "import random\n",
    "abc =[]\n",
    "for i in range(5):\n",
    "    abc.append(random.randint(0,100))"
   ]
  },
  {
   "cell_type": "code",
   "execution_count": 13,
   "id": "e305af52-a456-4cc9-882d-71a986d11a08",
   "metadata": {},
   "outputs": [
    {
     "data": {
      "text/plain": [
       "[27, 30, 16, 94, 29]"
      ]
     },
     "execution_count": 13,
     "metadata": {},
     "output_type": "execute_result"
    }
   ],
   "source": [
    "abc"
   ]
  },
  {
   "cell_type": "code",
   "execution_count": 14,
   "id": "aa9a4155-a01f-437a-8c25-33c8468c816b",
   "metadata": {},
   "outputs": [],
   "source": [
    "abc.sort()"
   ]
  },
  {
   "cell_type": "code",
   "execution_count": 15,
   "id": "6417f07f-89c9-4d16-9b0a-361cc4c6f0af",
   "metadata": {},
   "outputs": [
    {
     "data": {
      "text/plain": [
       "[16, 27, 29, 30, 94]"
      ]
     },
     "execution_count": 15,
     "metadata": {},
     "output_type": "execute_result"
    }
   ],
   "source": [
    "abc"
   ]
  },
  {
   "cell_type": "code",
   "execution_count": 16,
   "id": "54077e66-acb4-4c0f-8379-a23a33d51f00",
   "metadata": {},
   "outputs": [],
   "source": [
    "abc.remove(16)"
   ]
  },
  {
   "cell_type": "code",
   "execution_count": 17,
   "id": "422ea8bf-8f4c-4f5d-8faa-18d0435ab919",
   "metadata": {},
   "outputs": [
    {
     "data": {
      "text/plain": [
       "[27, 29, 30, 94]"
      ]
     },
     "execution_count": 17,
     "metadata": {},
     "output_type": "execute_result"
    }
   ],
   "source": [
    "abc"
   ]
  },
  {
   "cell_type": "code",
   "execution_count": 18,
   "id": "3072e8c5-791d-4e58-962f-19f8f55f7712",
   "metadata": {},
   "outputs": [
    {
     "data": {
      "text/plain": [
       "4"
      ]
     },
     "execution_count": 18,
     "metadata": {},
     "output_type": "execute_result"
    }
   ],
   "source": [
    "len(abc)"
   ]
  },
  {
   "cell_type": "code",
   "execution_count": 21,
   "id": "148f6cc5-e55d-4600-abde-16ff2ef2056f",
   "metadata": {},
   "outputs": [
    {
     "name": "stdin",
     "output_type": "stream",
     "text": [
      "what do you want? onions\n"
     ]
    },
    {
     "name": "stdout",
     "output_type": "stream",
     "text": [
      "Addingonionsfinished Pizza withonions\n"
     ]
    }
   ],
   "source": [
    "available_toopings = [\"onions\",\"olives\",\"chillies\",\"cheese\"]\n",
    "required_toopings = input(\"what do you want?\")\n",
    "\n",
    "if required_toopings in available_toopings:\n",
    "    print(\"Adding\" + required_toopings+\"finished Pizza with\" + required_toopings)\n",
    "else:\n",
    "    print(\"sorry\" + required_toopings + \"not available\")"
   ]
  },
  {
   "cell_type": "code",
   "execution_count": null,
   "id": "1143cb47-c891-4f37-9259-ab652111325f",
   "metadata": {},
   "outputs": [],
   "source": []
  },
  {
   "cell_type": "code",
   "execution_count": null,
   "id": "9db74cbd-e479-417f-8985-e7dc35ebe6b6",
   "metadata": {},
   "outputs": [],
   "source": [
    "\n"
   ]
  }
 ],
 "metadata": {
  "kernelspec": {
   "display_name": "Python 3 (ipykernel)",
   "language": "python",
   "name": "python3"
  },
  "language_info": {
   "codemirror_mode": {
    "name": "ipython",
    "version": 3
   },
   "file_extension": ".py",
   "mimetype": "text/x-python",
   "name": "python",
   "nbconvert_exporter": "python",
   "pygments_lexer": "ipython3",
   "version": "3.11.5"
  }
 },
 "nbformat": 4,
 "nbformat_minor": 5
}
